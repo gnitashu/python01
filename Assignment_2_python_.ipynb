{
 "cells": [
  {
   "cell_type": "code",
   "execution_count": 1,
   "id": "2711812c-c033-4570-8bd5-437b177d5b94",
   "metadata": {},
   "outputs": [
    {
     "name": "stdout",
     "output_type": "stream",
     "text": [
      "30\n"
     ]
    }
   ],
   "source": [
    "a=10\n",
    "b=20\n",
    "c=a+b\n",
    "print(c)"
   ]
  },
  {
   "cell_type": "markdown",
   "id": "816e0480-d370-4a32-a85e-e3a5074f0f7e",
   "metadata": {},
   "source": [
    "**Assignment -2**"
   ]
  },
  {
   "cell_type": "markdown",
   "id": "02fa88bb-daac-4c9d-a73e-8667622da1c6",
   "metadata": {},
   "source": [
    "**Q-1**"
   ]
  },
  {
   "cell_type": "code",
   "execution_count": 2,
   "id": "9b2d187a-d577-458d-8a57-0a824d18fdfd",
   "metadata": {},
   "outputs": [
    {
     "name": "stdout",
     "output_type": "stream",
     "text": [
      " The square of 9 is 81.\n"
     ]
    }
   ],
   "source": [
    "#print out the square of the number, sample output\n",
    "import random\n",
    "num=random.randint(1,100)\n",
    "square=num*num\n",
    "print(f\" The square of {num} is {square}.\")"
   ]
  },
  {
   "cell_type": "markdown",
   "id": "c7ba330b-000c-4509-8e29-1981427b0c9b",
   "metadata": {},
   "source": [
    "**Q-2**"
   ]
  },
  {
   "cell_type": "code",
   "execution_count": 7,
   "id": "86484a3e-fcc5-4723-a640-153986196263",
   "metadata": {},
   "outputs": [
    {
     "name": "stdout",
     "output_type": "stream",
     "text": [
      "7---14---21---28---35\n"
     ]
    }
   ],
   "source": [
    "x=random.randint(4,10)\n",
    "print(x,2*x,3*x,4*x,5*x,sep='---')"
   ]
  },
  {
   "cell_type": "markdown",
   "id": "783369a8-d338-4a2e-af59-ee1ffd6f42be",
   "metadata": {},
   "source": [
    "**Q-3**"
   ]
  },
  {
   "cell_type": "code",
   "execution_count": 8,
   "id": "97147fc8-ec90-4191-b01b-96ea6420880b",
   "metadata": {},
   "outputs": [
    {
     "name": "stdout",
     "output_type": "stream",
     "text": [
      "997kilograms is equasl to 2193.4 pounds.\n"
     ]
    }
   ],
   "source": [
    "#user to enter a weight in kg\n",
    "kilograms = random.randint(100,1000)\n",
    "pounds = kilograms * 2.2\n",
    "print(f\"{kilograms}kilograms is equasl to {pounds} pounds.\")"
   ]
  },
  {
   "cell_type": "markdown",
   "id": "8720f738-678f-46b5-baf2-e1209d26d890",
   "metadata": {},
   "source": [
    "**Q-4**"
   ]
  },
  {
   "cell_type": "code",
   "execution_count": 9,
   "id": "a52bc8b6-0272-46a4-b1fb-c6470d7c3c2b",
   "metadata": {},
   "outputs": [
    {
     "name": "stdout",
     "output_type": "stream",
     "text": [
      "the total of 3 numbers is 460 .\n",
      " the average of the 3 numbers is 153.33 .\n"
     ]
    }
   ],
   "source": [
    "#find average sum of 3 numbers\n",
    "num1 = random.randint(1,100)\n",
    "num2 = random.randint(100,200)\n",
    "num3 = random.randint(200,300)\n",
    "total = num1 + num2 + num3\n",
    "average = round(total/3,2)\n",
    "print(f\"the total of 3 numbers is {total} .\")\n",
    "print(f\" the average of the 3 numbers is {average} .\")"
   ]
  },
  {
   "cell_type": "markdown",
   "id": "54806a82-6262-4c88-ad4f-9e9433223811",
   "metadata": {},
   "source": [
    "**Q-5**"
   ]
  },
  {
   "cell_type": "code",
   "execution_count": 10,
   "id": "1cba24b1-70f3-4ff6-a6e2-c85860e7dbfa",
   "metadata": {},
   "outputs": [
    {
     "name": "stdout",
     "output_type": "stream",
     "text": [
      " The Tip amount is 379.5 \n",
      " Total bill : 489.5\n"
     ]
    }
   ],
   "source": [
    "#Ask the user for meal price\n",
    "meal_price= random.randint(100,1000)\n",
    "#ask the user the precent tip they want to leave\n",
    "tip_percent= random.randint(200,1000)\n",
    "tip_amount = round(meal_price*(tip_percent/100),2)\n",
    "total_bill = round(meal_price + tip_amount,2)\n",
    "print(f\" The Tip amount is {tip_amount} \")\n",
    "print(\" Total bill : {}\".format(total_bill))\n"
   ]
  },
  {
   "cell_type": "markdown",
   "id": "635e9513-57ab-4d6c-9a92-ccb7806223e4",
   "metadata": {},
   "source": [
    "**Q-6**"
   ]
  },
  {
   "cell_type": "code",
   "execution_count": 11,
   "id": "e2f39cd9-d18e-4a6b-b7a3-cae9453b5bee",
   "metadata": {},
   "outputs": [
    {
     "name": "stdout",
     "output_type": "stream",
     "text": [
      " the addition of 78 and 105 is  = 183\n",
      " the subtraction of 78 and 105 is  = -27\n",
      " the multiplication of 78 and 105 is = 8190\n",
      " the division of 78 and 105 is =  0.74\n"
     ]
    }
   ],
   "source": [
    "num1 = random.randint(1,100)\n",
    "num2 = random.randint(100,200)\n",
    "#calculate add,sub,mult,divi \n",
    "addition = round(num1 + num2,2)\n",
    "subtraction = round(num1 - num2,2)\n",
    "multiplication = round(num1* num2,2)\n",
    "division = round(num1 / num2,2)\n",
    "print(f\" the addition of {num1} and {num2} is  = {addition}\")\n",
    "print(f\" the subtraction of {num1} and {num2} is  = {subtraction}\")\n",
    "print(f\" the multiplication of {num1} and {num2} is = {multiplication}\")\n",
    "print(f\" the division of {num1} and {num2} is =  {division}\")"
   ]
  },
  {
   "cell_type": "markdown",
   "id": "6c812c75-18b5-497c-85a5-217fbf7a4167",
   "metadata": {},
   "source": [
    "**Q-7**"
   ]
  },
  {
   "cell_type": "code",
   "execution_count": 13,
   "id": "ea98dd88-fac6-483a-92a5-a2e8f94c700d",
   "metadata": {},
   "outputs": [
    {
     "name": "stdout",
     "output_type": "stream",
     "text": [
      " the area of the circle is : 12.56\n"
     ]
    }
   ],
   "source": [
    "# area of the circle\n",
    "radius=random.randint(1,10)\n",
    "pi = 3.14\n",
    "area = round(pi*radius*radius,2)\n",
    "print(f\" the area of the circle is : {area}\")"
   ]
  },
  {
   "cell_type": "markdown",
   "id": "bf06443e-ba2b-4134-a637-f4e3f014432f",
   "metadata": {},
   "source": [
    "**Q-8**"
   ]
  },
  {
   "cell_type": "code",
   "execution_count": 15,
   "id": "036dc020-8e31-4f5e-8ed0-f0b2057cbcac",
   "metadata": {},
   "outputs": [
    {
     "name": "stdout",
     "output_type": "stream",
     "text": [
      " The bill amount in Indian Rupees is : 12495 rupees \n"
     ]
    }
   ],
   "source": [
    "# user to enter bill amount in dollars\n",
    "bill_amount_dollars = random.randint(200,1000)\n",
    "#exchange rtae (Indian rupees per one dollars)\n",
    "exchange_rate  = random.randint(1,100)\n",
    "bill_amount_rupees = round(bill_amount_dollars * exchange_rate ,2)\n",
    "print(f\" The bill amount in Indian Rupees is : {bill_amount_rupees } rupees \")"
   ]
  },
  {
   "cell_type": "markdown",
   "id": "b2a02ecc-ab58-4a34-9bd3-15f7227a2d99",
   "metadata": {},
   "source": [
    "**Q-9**"
   ]
  },
  {
   "cell_type": "code",
   "execution_count": 19,
   "id": "82157558-dc8c-4966-99e6-875f1f0ec2af",
   "metadata": {},
   "outputs": [
    {
     "name": "stdout",
     "output_type": "stream",
     "text": [
      " the area of triangle is 26.5\n"
     ]
    }
   ],
   "source": [
    "#area of triangle\n",
    "base_tri= random.randint(1,10)\n",
    "height_tri=random.randint(1,100)\n",
    "area= round(1/2*base_tri*height_tri,2)\n",
    "print(f\" the area of triangle is {area}\")"
   ]
  },
  {
   "cell_type": "markdown",
   "id": "6badb96f-8a5d-4456-9d78-90f431af0a10",
   "metadata": {},
   "source": [
    "**Q-10**"
   ]
  },
  {
   "cell_type": "code",
   "execution_count": 20,
   "id": "c8fb6e8e-0f4c-4d84-8717-626ef462a20f",
   "metadata": {},
   "outputs": [
    {
     "name": "stdout",
     "output_type": "stream",
     "text": [
      " the area of rectangle 118 and 8 is 944 .\n"
     ]
    }
   ],
   "source": [
    "#area of rectangle\n",
    "len_rect = random.randint(100,200)\n",
    "breadth_rect = random.randint(1,100)\n",
    "area_rect = round(len_rect * breadth_rect,2)\n",
    "print(f\" the area of rectangle {len_rect} and {breadth_rect} is {area_rect} .\")"
   ]
  },
  {
   "cell_type": "markdown",
   "id": "2f4ff6af-f753-40eb-b907-4baa72f96d54",
   "metadata": {},
   "source": [
    "**Q-11**"
   ]
  },
  {
   "cell_type": "code",
   "execution_count": 3,
   "id": "7a9c1541-e203-4b28-8ed7-bace93ab248f",
   "metadata": {},
   "outputs": [
    {
     "name": "stdout",
     "output_type": "stream",
     "text": [
      " Father : hey baby \n",
      " Daughter : hwl daddy\n",
      " Father :i heard ur exam are over , what about result? \n",
      " Daughter :yes ! dad , result are out \n",
      " Father :what is the percentage \n",
      " Daughter : i will give my subject wise marks , you tell me the percentage \n",
      " Father : okay\n",
      " Daughter : Dad, now tell me how much percentage I got.\n",
      " Father: Tell me the Max marks of each subject. \n",
      " Father: your percentage is  97.60% .\n"
     ]
    }
   ],
   "source": [
    "import time\n",
    "print(\" Father : hey baby \")\n",
    "time.sleep(2)\n",
    "print(\" Daughter : hwl daddy\")\n",
    "time.sleep(2)\n",
    "print(\" Father :i heard ur exam are over , what about result? \")\n",
    "time.sleep(2)\n",
    "print(\" Daughter :yes ! dad , result are out \")\n",
    "time.sleep(2)\n",
    "print(\" Father :what is the percentage \")\n",
    "time.sleep(2)\n",
    "print(\" Daughter : i will give my subject wise marks , you tell me the percentage \")\n",
    "time.sleep(2)\n",
    "print(\" Father : okay\")\n",
    "time.sleep(2)\n",
    "sub1= random.randint (1,200)\n",
    "sub2= random.randint  (1,200)\n",
    "sub3 = random.randint (1,200)\n",
    "sub4 = random.randint (1,200)\n",
    "sub5 = random.randint (1,200)\n",
    "print(\" Daughter : Dad, now tell me how much percentage I got.\")\n",
    "time.sleep(2)\n",
    "print(\" Father: Tell me the Max marks of each subject. \")\n",
    "time.sleep(2)\n",
    "max_marks = random.randint(1,100)\n",
    "time.sleep(2)\n",
    "total_max_marks  = 500\n",
    "total_marks = sub1 + sub2 + sub3 + sub4 + sub5 \n",
    "percentage =  round((total_marks / total_max_marks ) * 100 ,2)\n",
    "print(f\" Father: your percentage is {percentage:}% .\")\n"
   ]
  },
  {
   "cell_type": "code",
   "execution_count": null,
   "id": "2a52a021-66e3-4f2e-a95d-b2ba32a8a147",
   "metadata": {},
   "outputs": [],
   "source": []
  }
 ],
 "metadata": {
  "kernelspec": {
   "display_name": "Python 3 (ipykernel)",
   "language": "python",
   "name": "python3"
  },
  "language_info": {
   "codemirror_mode": {
    "name": "ipython",
    "version": 3
   },
   "file_extension": ".py",
   "mimetype": "text/x-python",
   "name": "python",
   "nbconvert_exporter": "python",
   "pygments_lexer": "ipython3",
   "version": "3.11.7"
  }
 },
 "nbformat": 4,
 "nbformat_minor": 5
}
