{
 "cells": [
  {
   "cell_type": "markdown",
   "id": "b8d6e9e8-acdd-41fa-8571-b615d77f3c2e",
   "metadata": {},
   "source": [
    "**Assignment**"
   ]
  },
  {
   "cell_type": "markdown",
   "id": "b78169ef-90eb-4248-be80-bef01d6969db",
   "metadata": {},
   "source": [
    "**Q-1**"
   ]
  },
  {
   "cell_type": "code",
   "execution_count": 1,
   "id": "5504e0c6-140e-4ff1-9143-8bb4e6e1d1b9",
   "metadata": {},
   "outputs": [
    {
     "name": "stdin",
     "output_type": "stream",
     "text": [
      " 5\n"
     ]
    },
    {
     "name": "stdout",
     "output_type": "stream",
     "text": [
      " The square of 5 is 25.\n"
     ]
    }
   ],
   "source": [
    "#print evalout the square of the number, sample output\n",
    "num=(input(\"enter a number: \"))\n",
    "square=num*num\n",
    "print(f\" The square of {num} is {square}.\")"
   ]
  },
  {
   "cell_type": "markdown",
   "id": "dd359c57-f780-4908-a6ec-d537f4b9eeeb",
   "metadata": {},
   "source": [
    "**Q-2**"
   ]
  },
  {
   "cell_type": "code",
   "execution_count": 6,
   "id": "e76f23c4-d94a-426e-8155-4fa18ce49a22",
   "metadata": {},
   "outputs": [
    {
     "name": "stdin",
     "output_type": "stream",
     "text": [
      " Enter a number:  7\n"
     ]
    },
    {
     "name": "stdout",
     "output_type": "stream",
     "text": [
      "7---14---21---28---35\n"
     ]
    }
   ],
   "source": [
    "#print out x,2x,3x,4x and 5x\n",
    "#use sep='--->' to separated\n",
    "\n",
    "x=eval(input(\" Enter a number: \"))\n",
    "print(x,2*x,3*x,4*x,5*x,sep='---')"
   ]
  },
  {
   "cell_type": "markdown",
   "id": "49e6e274-ddfe-4c27-8917-b74e236112f1",
   "metadata": {},
   "source": [
    "**Q-3**"
   ]
  },
  {
   "cell_type": "code",
   "execution_count": 2,
   "id": "d3620069-54dd-42f7-9a4d-7d49c1bc072a",
   "metadata": {},
   "outputs": [
    {
     "name": "stdin",
     "output_type": "stream",
     "text": [
      "enter a weight in kilograms: 4\n"
     ]
    },
    {
     "name": "stdout",
     "output_type": "stream",
     "text": [
      "4.0kilograms is equasl to 8.8 pounds.\n"
     ]
    }
   ],
   "source": [
    "#user to enter a weight in kg\n",
    "\n",
    "kilograms = eval(input(\"enter a weight in kilograms:\"))\n",
    "pounds = kilograms * 2.2\n",
    "print(f\"{kilograms}kilograms is equasl to {pounds} pounds.\")"
   ]
  },
  {
   "cell_type": "markdown",
   "id": "dd6b42f0-53c3-455a-ba17-b0c306a12dd5",
   "metadata": {},
   "source": [
    "**Q-4**"
   ]
  },
  {
   "cell_type": "code",
   "execution_count": 5,
   "id": "57ed073b-249f-4019-bb1d-d33b1ef67142",
   "metadata": {},
   "outputs": [
    {
     "name": "stdin",
     "output_type": "stream",
     "text": [
      " Enter the first number :  10\n",
      " Enter the second number :  20\n",
      " Enter the third number :  30\n"
     ]
    },
    {
     "name": "stdout",
     "output_type": "stream",
     "text": [
      "the total of 3 numbers is 60.0 .\n",
      " the average of the 3 numbers is 20.0 .\n"
     ]
    }
   ],
   "source": [
    "#find average sum of 3 numbers\n",
    "num1 = eval(input(\" Enter the first number : \"))\n",
    "num2 = eval(input(\" Enter the second number : \"))\n",
    "num3 = eval(input(\" Enter the third number : \"))\n",
    "total = num1 + num2 + num3\n",
    "average = total/3\n",
    "print(f\"the total of 3 numbers is {total} .\")\n",
    "print(f\" the average of the 3 numbers is {average} .\")"
   ]
  },
  {
   "cell_type": "markdown",
   "id": "c503ec40-1e27-4e04-9e0c-5d8144e244f8",
   "metadata": {},
   "source": [
    "**Q-5**"
   ]
  },
  {
   "cell_type": "code",
   "execution_count": 4,
   "id": "6f97564e-c6da-456c-8c3d-365a476c54a7",
   "metadata": {},
   "outputs": [
    {
     "name": "stdin",
     "output_type": "stream",
     "text": [
      " enter the price of the meal: $ 1500\n",
      "Enter the percent tip you want to leave:  10\n"
     ]
    },
    {
     "name": "stdout",
     "output_type": "stream",
     "text": [
      " The Tip amount is 150.0 $ \n",
      " Total bill : 1650.0\n"
     ]
    }
   ],
   "source": [
    "#Ask the user for meal price\n",
    "meal_price = eval(input(\" enter the price of the meal: $\"))\n",
    "\n",
    "#ask the user the precent tip they want to leave\n",
    "\n",
    "tip_percent = eval(input(\"Enter the percent tip you want to leave: \"))\n",
    "\n",
    "tip_amount = meal_price*(tip_percent/100)\n",
    "total_bill = meal_price + tip_amount\n",
    "print(f\" The Tip amount is {tip_amount} $ \")\n",
    "print(\" Total bill : {}\".format(total_bill))\n"
   ]
  },
  {
   "cell_type": "markdown",
   "id": "97ea0a16-fa39-4bc5-8a02-70f4775bad9e",
   "metadata": {},
   "source": [
    "**Q-6**"
   ]
  },
  {
   "cell_type": "code",
   "execution_count": 10,
   "id": "0245fe8c-9e4d-4e37-ac05-fb14ac4534bf",
   "metadata": {},
   "outputs": [
    {
     "name": "stdin",
     "output_type": "stream",
     "text": [
      " enter the first number:  100\n",
      "enter the second number:  50\n"
     ]
    },
    {
     "name": "stdout",
     "output_type": "stream",
     "text": [
      " the addition of 100 and 50 is  = 150\n",
      " the subtraction of 100 and 50 is  = 50\n",
      " the multiplication of 100 and 50 is = 5000\n",
      " the division of 100 and 50 is =  2.0\n"
     ]
    }
   ],
   "source": [
    "num1 = eval(input(\" enter the first number: \"))\n",
    "num2 = eval(input(\"enter the second number: \"))\n",
    "#calculate add,sub,mult,divi \n",
    "addition = num1 + num2\n",
    "subtraction = num1 - num2\n",
    "multiplication = num1* num2\n",
    "division = num1 / num2\n",
    "print(f\" the addition of {num1} and {num2} is  = {addition}\")\n",
    "print(f\" the subtraction of {num1} and {num2} is  = {subtraction}\")\n",
    "print(f\" the multiplication of {num1} and {num2} is = {multiplication}\")\n",
    "print(f\" the division of {num1} and {num2} is =  {division}\")"
   ]
  },
  {
   "cell_type": "markdown",
   "id": "4218da2a-5b4c-4114-8ecb-1cda4843e5a1",
   "metadata": {},
   "source": [
    "**Q-7**"
   ]
  },
  {
   "cell_type": "code",
   "execution_count": 12,
   "id": "ba7e224d-7e32-4b61-9d6d-9b54b440d8d3",
   "metadata": {},
   "outputs": [
    {
     "name": "stdin",
     "output_type": "stream",
     "text": [
      " enter the radius of  circle 5\n"
     ]
    },
    {
     "name": "stdout",
     "output_type": "stream",
     "text": [
      " the area of the circle is : 78.5\n"
     ]
    }
   ],
   "source": [
    "# area of the circle\n",
    "radius=eval(input(\" enter the radius of  circle\"))\n",
    "pi = 3.14\n",
    "area = pi*radius*radius\n",
    "print(f\" the area of the circle is : {area}\")"
   ]
  },
  {
   "cell_type": "markdown",
   "id": "5139e5b7-6328-4f01-a7ea-6a267aa57dad",
   "metadata": {},
   "source": [
    "**Q-8**"
   ]
  },
  {
   "cell_type": "code",
   "execution_count": 15,
   "id": "9b950a6e-17ff-44ac-b225-b0b13e3908e7",
   "metadata": {},
   "outputs": [
    {
     "name": "stdin",
     "output_type": "stream",
     "text": [
      " enter the bill amount in dollar :  $ 199\n",
      " Enter the exchange rate (Indian rupees per one dollars): 75\n"
     ]
    },
    {
     "name": "stdout",
     "output_type": "stream",
     "text": [
      " The bill amount in Indian Rupees is : 14925.0 rupees \n"
     ]
    }
   ],
   "source": [
    "# user to enter bill amount in dollars\n",
    "bill_amount_dollars = eval(input(\" enter the bill amount in dollar :  $\"))\n",
    "#exchange rtae (Indian rupees per one dollars)\n",
    "exchange_rate  = float(input(\" Enter the exchange rate (Indian rupees per one dollars):\"))\n",
    "bill_amount_rupees = bill_amount_dollars * exchange_rate \n",
    "print(f\" The bill amount in Indian Rupees is : {bill_amount_rupees } rupees \")"
   ]
  },
  {
   "cell_type": "markdown",
   "id": "f96f013d-1d4e-49ba-9002-336913f3b6a1",
   "metadata": {},
   "source": [
    "**Q-9**"
   ]
  },
  {
   "cell_type": "code",
   "execution_count": 16,
   "id": "e1ba894c-37a7-428d-8d2c-196ff4a27d27",
   "metadata": {},
   "outputs": [
    {
     "name": "stdin",
     "output_type": "stream",
     "text": [
      "enter the base of triangle:  9.5\n",
      "enter the height of triangle:  7.5\n"
     ]
    },
    {
     "name": "stdout",
     "output_type": "stream",
     "text": [
      " the area of triangle is 35.625\n"
     ]
    }
   ],
   "source": [
    "#area of triangle\n",
    "base_tri = eval(input(\"enter the base of triangle: \"))\n",
    "height_tri = eval(input(\"enter the height of triangle: \"))\n",
    "area = 1/2*base_tri*height_tri\n",
    "print(f\" the area of triangle is {area}\")"
   ]
  },
  {
   "cell_type": "markdown",
   "id": "d61fc421-ea71-4a09-b13e-2d7d3592db36",
   "metadata": {},
   "source": [
    "**Q-10**"
   ]
  },
  {
   "cell_type": "code",
   "execution_count": 17,
   "id": "e9223b01-afe5-4850-9ac7-eecbb500bb50",
   "metadata": {},
   "outputs": [
    {
     "name": "stdin",
     "output_type": "stream",
     "text": [
      " Enter the length of rectangle :  10\n",
      " Enter the breadth of rectangle :  5\n"
     ]
    },
    {
     "name": "stdout",
     "output_type": "stream",
     "text": [
      " the area of rectangle 10 and 5 is 50 .\n"
     ]
    }
   ],
   "source": [
    "#area of rectangle\n",
    "len_rect = eval(input(\" Enter the length of rectangle : \"))\n",
    "breadth_rect = eval(input(\" Enter the breadth of rectangle : \"))\n",
    "area_rect = len_rect * breadth_rect \n",
    "print(f\" the area of rectangle {len_rect} and {breadth_rect} is {area_rect} .\")"
   ]
  },
  {
   "cell_type": "markdown",
   "id": "9805cc27-8fd9-4379-aceb-6f408a98be91",
   "metadata": {},
   "source": [
    "**Q-11**"
   ]
  },
  {
   "cell_type": "code",
   "execution_count": null,
   "id": "fa4aa824-d468-4889-91f0-a4c737f128af",
   "metadata": {},
   "outputs": [
    {
     "name": "stdout",
     "output_type": "stream",
     "text": [
      " Father : hey baby \n",
      " Daughter :hwl daddy \n",
      " Father : i heard ur exam are over , what about result?\n",
      " Daughter : yes ! dad , result are out\n",
      " Father :what is the percentage \n",
      " Daughter :  i will give my subject wise marks , you tell me the percentage   \n",
      " Father :okay \n"
     ]
    }
   ],
   "source": [
    "import time\n",
    "print(\" Father : hey baby \")\n",
    "time.sleep(2)\n",
    "print(\" Daughter :hwl daddy \")\n",
    "time.sleep(2)\n",
    "print(\" Father : i heard ur exam are over , what about result?\")\n",
    "time.sleep(2)\n",
    "print(\" Daughter : yes ! dad , result are out\")\n",
    "time.sleep(2)\n",
    "print(\" Father :what is the percentage \")\n",
    "time.sleep(2)\n",
    "print(\" Daughter :  i will give my subject wise marks , you tell me the percentage   \")\n",
    "time.sleep(2)\n",
    "print(\" Father :okay \")\n",
    "time.sleep(2)\n",
    "sub1= eval(input(\" first language\"))\n",
    "sub2= eval(input(\" second language\"))\n",
    "sub3 = eval(input(\" third language \"))\n",
    "sub4 = eval(input(\" science \"))\n",
    "sub5 = eval(input(\" Maths: \"))\n",
    "print(\" Daughter : Dad, now tell me how much percentage I got.\")\n",
    "time.sleep(2)\n",
    "print(\" Father: Tell me the Max marks of each subject.\")\n",
    "max_marks = eval(input(\" Daughter : \"))\n",
    "total_max_marks  = 500\n",
    "total_marks = sub1 + sub2 + sub3 + sub4 + sub5 \n",
    "percentage = (total_marks / total_max_marks ) * 100\n",
    "print(f\" Father: your percentage is {percentage: }% .\")\n"
   ]
  },
  {
   "cell_type": "code",
   "execution_count": null,
   "id": "d85706bf-b2bf-4f5d-9af5-63a8f121ccb5",
   "metadata": {},
   "outputs": [],
   "source": []
  },
  {
   "cell_type": "code",
   "execution_count": null,
   "id": "fc70335e-857c-41fb-ac6c-e3af8bb3f0ab",
   "metadata": {},
   "outputs": [],
   "source": []
  }
 ],
 "metadata": {
  "kernelspec": {
   "display_name": "Python 3 (ipykernel)",
   "language": "python",
   "name": "python3"
  },
  "language_info": {
   "codemirror_mode": {
    "name": "ipython",
    "version": 3
   },
   "file_extension": ".py",
   "mimetype": "text/x-python",
   "name": "python",
   "nbconvert_exporter": "python",
   "pygments_lexer": "ipython3",
   "version": "3.11.7"
  }
 },
 "nbformat": 4,
 "nbformat_minor": 5
}
